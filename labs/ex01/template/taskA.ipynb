{
 "cells": [
  {
   "cell_type": "code",
   "execution_count": 1,
   "metadata": {
    "collapsed": true
   },
   "outputs": [],
   "source": [
    "%matplotlib inline\n",
    "\n",
    "import numpy as np\n",
    "import matplotlib.pyplot as plt\n",
    "\n",
    "%load_ext autoreload\n",
    "%autoreload 2"
   ]
  },
  {
   "cell_type": "markdown",
   "metadata": {},
   "source": [
    "Data Generation\n",
    "==="
   ]
  },
  {
   "cell_type": "code",
   "execution_count": 2,
   "metadata": {
    "collapsed": true
   },
   "outputs": [],
   "source": [
    "num_samples, num_features = 10, 5"
   ]
  },
  {
   "cell_type": "code",
   "execution_count": 4,
   "metadata": {
    "collapsed": true
   },
   "outputs": [],
   "source": [
    "np.random.seed(10)\n",
    "data = np.random.rand(num_samples, num_features)"
   ]
  },
  {
   "cell_type": "markdown",
   "metadata": {},
   "source": [
    "Solution\n",
    "==="
   ]
  },
  {
   "cell_type": "code",
   "execution_count": 6,
   "metadata": {
    "collapsed": false,
    "scrolled": false
   },
   "outputs": [
    {
     "name": "stdout",
     "output_type": "stream",
     "text": [
      "[[ 0.77132064  0.02075195  0.63364823  0.74880388  0.49850701]\n",
      " [ 0.22479665  0.19806286  0.76053071  0.16911084  0.08833981]\n",
      " [ 0.68535982  0.95339335  0.00394827  0.51219226  0.81262096]\n",
      " [ 0.61252607  0.72175532  0.29187607  0.91777412  0.71457578]\n",
      " [ 0.54254437  0.14217005  0.37334076  0.67413362  0.44183317]\n",
      " [ 0.43401399  0.61776698  0.51313824  0.65039718  0.60103895]\n",
      " [ 0.8052232   0.52164715  0.90864888  0.31923609  0.09045935]\n",
      " [ 0.30070006  0.11398436  0.82868133  0.04689632  0.62628715]\n",
      " [ 0.54758616  0.819287    0.19894754  0.8568503   0.35165264]\n",
      " [ 0.75464769  0.29596171  0.88393648  0.32551164  0.1650159 ]]\n"
     ]
    }
   ],
   "source": [
    "print(data)"
   ]
  },
  {
   "cell_type": "code",
   "execution_count": 32,
   "metadata": {
    "collapsed": false
   },
   "outputs": [],
   "source": [
    "def standardize(x):\n",
    "    ''' fill your code in here...\n",
    "    '''\n",
    "    return x - np.mean(x, axis=0)   \n",
    "\n",
    "std_data = standardize(data)"
   ]
  },
  {
   "cell_type": "code",
   "execution_count": 33,
   "metadata": {
    "collapsed": false
   },
   "outputs": [
    {
     "name": "stdout",
     "output_type": "stream",
     "text": [
      "[[ 0.66410529 -0.11679581  0.47277014  0.60206914  0.39029121]\n",
      " [ 0.1175813   0.0605151   0.59965262  0.0223761  -0.01987599]\n",
      " [ 0.57814447  0.81584559 -0.15692983  0.36545752  0.70440516]\n",
      " [ 0.50531072  0.58420756  0.13099798  0.77103938  0.60635998]\n",
      " [ 0.43532902  0.00462229  0.21246267  0.52739888  0.33361737]\n",
      " [ 0.32679864  0.48021922  0.35226015  0.50366244  0.49282315]\n",
      " [ 0.69800785  0.38409939  0.74777079  0.17250135 -0.01775646]\n",
      " [ 0.19348471 -0.0235634   0.66780323 -0.09983842  0.51807134]\n",
      " [ 0.44037081  0.68173923  0.03806945  0.71011556  0.24343683]\n",
      " [ 0.64743234  0.15841395  0.72305839  0.1787769   0.05680009]] \n",
      "\n",
      " [ 0.46065651  0.30293031  0.37879156  0.37535589  0.33081727] \n",
      "\n",
      " [ 0.18880201  0.31226926  0.29810476  0.28105224  0.24648668]\n"
     ]
    }
   ],
   "source": [
    "print(std_data, \"\\n\\n\", np.mean(std_data, axis=0), \"\\n\\n\", np.std(std_data, axis=0))"
   ]
  },
  {
   "cell_type": "code",
   "execution_count": null,
   "metadata": {
    "collapsed": true
   },
   "outputs": [],
   "source": []
  }
 ],
 "metadata": {
  "anaconda-cloud": {},
  "kernelspec": {
   "display_name": "Python [default]",
   "language": "python",
   "name": "python3"
  },
  "language_info": {
   "codemirror_mode": {
    "name": "ipython",
    "version": 3
   },
   "file_extension": ".py",
   "mimetype": "text/x-python",
   "name": "python",
   "nbconvert_exporter": "python",
   "pygments_lexer": "ipython3",
   "version": "3.5.2"
  }
 },
 "nbformat": 4,
 "nbformat_minor": 0
}
